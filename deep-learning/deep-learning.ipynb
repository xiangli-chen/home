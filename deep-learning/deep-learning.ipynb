{
 "cells": [
  {
   "cell_type": "markdown",
   "metadata": {},
   "source": [
    "# Deep Learning\n",
    "---\n",
    "## Reading Notes\n",
    "* ### Foundation [notes](./foundation.ipynb)\n",
    "derivative, partial derivative, gradient, chain rule, backprobagation\n",
    "* ### Artificial Neural Networks [notes](./ann.ipynb)\n",
    "* ### Training Neural Networks [notes](./training.ipynb)\n",
    "* ### Convolutional Neural Networks [notes](./cnn.ipynb)\n",
    "* ### Recurrent Neural Networks\n",
    "* ### Generative Adversarial Networks\n",
    "---\n",
    "## Applications\n",
    "---\n",
    "## Tools\n",
    "* ### TensorFlow [notes](https://github.com/xiangli-chen/tensorFlow-notes/blob/master/home.md) [website](https://www.tensorflow.org/)\n",
    "* ### PyTorch [website](http://pytorch.org/)\n",
    "---\n",
    "## Textbooks & Tutorial & Survey\n",
    "* ### [Neural Networks and Deep Learning](http://neuralnetworksanddeeplearning.com/)\n",
    "* ### [Colah's blog](http://colah.github.io/)\n",
    "---\n",
    "## Open courses\n",
    "* ### [Neural Networks course by Hinton on Coursera](https://www.coursera.org/learn/neural-networks/home/welcome)\n",
    "* ### [DL course by Nando de Freitas](https://www.cs.ox.ac.uk/people/nando.defreitas/machinelearning/)\n",
    "* ### [DL course by Google on Udacity](https://classroom.udacity.com/courses/ud730)\n",
    "* ### [DL course by Intel Nervana](https://www.intelnervana.com/deep-learning-tutorials/)\n",
    "* ### [CNN for Visual Recognition by Stanford](http://cs231n.stanford.edu/)\n",
    "---\n",
    "## Link\n",
    "* ### [Deep Learning site](http://deeplearning.net/)"
   ]
  },
  {
   "cell_type": "code",
   "execution_count": null,
   "metadata": {
    "collapsed": true
   },
   "outputs": [],
   "source": []
  }
 ],
 "metadata": {
  "kernelspec": {
   "display_name": "Python 3",
   "language": "python",
   "name": "python3"
  },
  "language_info": {
   "codemirror_mode": {
    "name": "ipython",
    "version": 3
   },
   "file_extension": ".py",
   "mimetype": "text/x-python",
   "name": "python",
   "nbconvert_exporter": "python",
   "pygments_lexer": "ipython3",
   "version": "3.6.1"
  }
 },
 "nbformat": 4,
 "nbformat_minor": 2
}
