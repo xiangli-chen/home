{
 "cells": [
  {
   "cell_type": "markdown",
   "metadata": {},
   "source": [
    "# Training Neural Network\n",
    "\n",
    "table of contents:\n",
    "\n",
    "- [Setting up the data and the model](#setup) (to be continued)\n",
    "  - [Data Preprocessing](#datapre)\n",
    "  - [Weight Initialization](#init)\n",
    "  - [Batch Normalization](#batchnorm)\n",
    "  - [Regularization](#reg)\n",
    "- [Loss functions](#losses)\n",
    "- [Gradient checks](#gradcheck)\n",
    "- [Sanity checks](#sanitycheck)\n",
    "- [Babysitting the learning process](#baby)\n",
    "  - [Loss function](#loss)\n",
    "  - [Train/val accuracy](#accuracy)\n",
    "  - [Weights:Updates ratio](#ratio)\n",
    "  - [Activation/Gradient distributions per layer](#distr)\n",
    "  - [Visualization](#vis)\n",
    "- [Parameter updates](#update)\n",
    "  - [First-order (SGD), momentum, Nesterov momentum](#sgd)\n",
    "  - [Annealing the learning rate](#anneal)\n",
    "  - [Second-order methods](#second)\n",
    "  - [Per-parameter adaptive learning rates (Adagrad, RMSProp)](#ada)\n",
    "- [Hyperparameter Optimization](#hyper)\n",
    "- [Evaluation](#eval)\n",
    "  - [Model Ensembles](#ensemble)"
   ]
  }
 ],
 "metadata": {
  "kernelspec": {
   "display_name": "Python 3",
   "language": "python",
   "name": "python3"
  },
  "language_info": {
   "codemirror_mode": {
    "name": "ipython",
    "version": 3
   },
   "file_extension": ".py",
   "mimetype": "text/x-python",
   "name": "python",
   "nbconvert_exporter": "python",
   "pygments_lexer": "ipython3",
   "version": "3.6.1"
  }
 },
 "nbformat": 4,
 "nbformat_minor": 2
}
