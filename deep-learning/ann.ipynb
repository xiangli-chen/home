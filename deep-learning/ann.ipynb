{
 "cells": [
  {
   "cell_type": "markdown",
   "metadata": {
    "collapsed": true
   },
   "source": [
    "# Artificial Neural Network  \n",
    "\n",
    "Table of Contents:\n",
    "\n",
    "- [Modeling one neuron](#model)\n",
    "  - [Biological motivation](#bio)\n",
    "  - [Single neuron as a linear classifier](#classifier)\n",
    "  - [Activation functions](#actfun)\n",
    "- [Neural Network architectures](#nn)  \n",
    "  - [Layer-wise organization](#layers)\n",
    "  - [Example feed-forward computation](#feedforward)\n",
    "  - [Representational power](#power)\n",
    "  - [Setting number of layers and their sizes](#arch)\n",
    "- [Summary](#summary)\n",
    "- [Additional references](#add)"
   ]
  },
  {
   "cell_type": "markdown",
   "metadata": {},
   "source": [
    "## Modeling One Neuron <a name='model'></a>\n",
    "### Biological motivation <a name='bio'></a>\n",
    "![neuro-model](./figures/ann/neuron-model.png)"
   ]
  },
  {
   "cell_type": "markdown",
   "metadata": {},
   "source": [
    "The basic computational unit of the brain is a **neuron**.  \n",
    "**Activation function**  $f$ represents the frequency of the spikes along the axon.  \n",
    "In the computational model, each neuron performs a dot product with the input and its weights, adds the bias and applies the **non-linearity** (or activation function)."
   ]
  },
  {
   "cell_type": "markdown",
   "metadata": {},
   "source": [
    "### Single neuron as a linear classifer <a name='classifier'></a>\n",
    "With an appropriate loss function on the neuron's output, we can turn a single neuron into a linear classifier:\n",
    "- **Binary Softmax classifier**. For example, **logistic regression**. The ouput of the neuron is the logarithm loss.  \n",
    "- **Binary SVM classifier**. The output of the neuron is the hinge loss. \n",
    "\n",
    "**Regularization interpretation**. The regularization loss in both SVM and Softmax cases could in this biological view be interpreted as *gradual forgetting*, since it would have the effect of driving all synaptic weights \\\\(w\\\\) towards zero after every parameter update.\n",
    "\n",
    "> A single neuron can be used to implement a binary classifier (e.g. binary Softmax or binary SVM classifiers)"
   ]
  },
  {
   "cell_type": "markdown",
   "metadata": {},
   "source": [
    "### Activation functions <a name='actfun'></a>"
   ]
  },
  {
   "cell_type": "code",
   "execution_count": 1,
   "metadata": {
    "collapsed": true
   },
   "outputs": [],
   "source": [
    "class Neuron(object):\n",
    "  # ... \n",
    "  def forward(self, inputs):\n",
    "    \"\"\" assume inputs and weights are 1-D numpy arrays and bias is a number \"\"\"\n",
    "    cell_body_sum = np.sum(inputs * self.weights) + self.bias\n",
    "    firing_rate = 1.0 / (1.0 + math.exp(-cell_body_sum)) # sigmoid activation function\n",
    "    return firing_rate"
   ]
  },
  {
   "cell_type": "code",
   "execution_count": null,
   "metadata": {
    "collapsed": true
   },
   "outputs": [],
   "source": []
  }
 ],
 "metadata": {
  "kernelspec": {
   "display_name": "Python 3",
   "language": "python",
   "name": "python3"
  },
  "language_info": {
   "codemirror_mode": {
    "name": "ipython",
    "version": 3
   },
   "file_extension": ".py",
   "mimetype": "text/x-python",
   "name": "python",
   "nbconvert_exporter": "python",
   "pygments_lexer": "ipython3",
   "version": "3.6.1"
  }
 },
 "nbformat": 4,
 "nbformat_minor": 2
}
