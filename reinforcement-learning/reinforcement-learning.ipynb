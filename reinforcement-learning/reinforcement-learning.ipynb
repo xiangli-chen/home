{
 "cells": [
  {
   "cell_type": "markdown",
   "metadata": {},
   "source": [
    "# Reinforcement Learning\n",
    "---\n",
    "## Reading Notes\n",
    "---\n",
    "## Applications\n",
    "---\n",
    "## Tools\n",
    "- Open AI gym [note](./openAI.ipynb) [website](https://github.com/openai/gym) \n",
    "---\n",
    "## Textbooks & Tutorial & Survey\n",
    "### [Reinforcement Learning: An Introduction](http://incompleteideas.net/sutton/book/the-book-2nd.html) [book draft](./bookdraft2017june19.pdf)\n",
    "---\n",
    "## Open courses\n",
    "* ### RL course by David Silver [website](http://www0.cs.ucl.ac.uk/staff/d.silver/web/Teaching.html)\n",
    "* ### Deep Reinforcement Learning from Berkely [website](http://rll.berkeley.edu/deeprlcourse/)"
   ]
  },
  {
   "cell_type": "code",
   "execution_count": null,
   "metadata": {
    "collapsed": true
   },
   "outputs": [],
   "source": []
  }
 ],
 "metadata": {
  "kernelspec": {
   "display_name": "Python 3",
   "language": "python",
   "name": "python3"
  },
  "language_info": {
   "codemirror_mode": {
    "name": "ipython",
    "version": 3
   },
   "file_extension": ".py",
   "mimetype": "text/x-python",
   "name": "python",
   "nbconvert_exporter": "python",
   "pygments_lexer": "ipython3",
   "version": "3.6.1"
  }
 },
 "nbformat": 4,
 "nbformat_minor": 2
}
