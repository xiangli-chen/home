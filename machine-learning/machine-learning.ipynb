{
 "cells": [
  {
   "cell_type": "markdown",
   "metadata": {},
   "source": [
    "# Machine Learning\n",
    "## Foundation [slides](./foundation.pdf)\n",
    "### Probability [doc](./foundation/probability.ipynb)\n",
    "Theory, special distribution and symptotic theory\n",
    "### Statistical Inference [doc](./foundation/statistics.ipynb)\n",
    "Confidence Interval, Maximum Likelihood Estimation (MLE), Expectation and Maximization (EM) Algorithm, Bayesian Statistics, Bootstrap\n",
    "### Linear Algebra\n",
    "### Optimization\n",
    "---\n",
    "## General Supervised Learning [slides](./general-supervised-learning.pdf)\n",
    "### Decision Tree\n",
    "### K Nearest Neighbore\n",
    "### Naive Bayes\n",
    "### Support Vector Machine [ppt](./SVM.pdf)\n",
    "### Logistic Regerssion\n",
    "### Linear Regerssion [ppt](./linear-regression.pdf)\n",
    "---\n",
    "## Unsupervised Learning [slides](./unsupervised.pdf)\n",
    "### Association Rule\n",
    "### Cluster Analysis\n",
    "---\n",
    "## Model [slides](./model.pdf)\n",
    "### Model Assement\n",
    "### Model Selection\n",
    "---\n",
    "## Approximate Inference [slides](./approximate.pdf)\n",
    "### Variational Inference\n",
    "### Sampling [ppt](./sampling.pdf)\n",
    "---\n",
    "## Learning Theory\n",
    "___\n",
    "## Kernel\n",
    "___\n",
    "## Gaussian Process\n",
    "___\n",
    "## Graphical Model\n",
    "### Conditional Random Field [doc](./graphical-model/CRF.pdf)\n",
    "___\n",
    "## Ensemble Learning\n",
    "### Bagging\n",
    "### Random Forest\n",
    "### Boosting\n",
    "___\n",
    "## High Dimension"
   ]
  },
  {
   "cell_type": "code",
   "execution_count": null,
   "metadata": {
    "collapsed": true
   },
   "outputs": [],
   "source": []
  }
 ],
 "metadata": {
  "kernelspec": {
   "display_name": "Python 3",
   "language": "python",
   "name": "python3"
  },
  "language_info": {
   "codemirror_mode": {
    "name": "ipython",
    "version": 3
   },
   "file_extension": ".py",
   "mimetype": "text/x-python",
   "name": "python",
   "nbconvert_exporter": "python",
   "pygments_lexer": "ipython3",
   "version": "3.6.1"
  }
 },
 "nbformat": 4,
 "nbformat_minor": 2
}
