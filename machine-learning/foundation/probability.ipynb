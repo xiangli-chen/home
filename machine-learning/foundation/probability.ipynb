{
 "cells": [
  {
   "cell_type": "markdown",
   "metadata": {},
   "source": [
    "# Probability"
   ]
  },
  {
   "cell_type": "markdown",
   "metadata": {},
   "source": [
    "## Convergence\n",
    "\n",
    "### Converge almost surely\n",
    "Given a probability space $(\\Omega, \\mathcal{B}, P)$, we say that a statement about random elements holds **almost surely** (abbreviated a.s.) if there exists an event $N \\in \\mathcal{B}$ with $P(N) = 0$ such that the statement holds if $\\omega \\in N^c$.\n",
    "- Let $X, X'$ be two random variables. Then $X \\buildrel \\text{a.s.} \\over = X'$ means\n",
    "$p(X=X') = 1$. That is, there exists an event $N\\in \\mathcal{B}$, such that $p(N)=0$ and if\n",
    "$\\omega\\in N^c$, then $X(\\omega)=X'(\\omega).$\n",
    "- If $\\{X_n\\}$ is a sequence of random variables, then $\\lim_{n\\to \\infty} X_n$ exists a.s. means there exists an event $N \\in \\mathcal{B}$, such that $p(N) =0$ and if $\\omega \\in N^c$ then $\\lim_{n\\to \\infty} X_n(\\omega)$ exists. We will write it as\n",
    "$$X_n \\buildrel \\text{a.s.} \\over \\to X.$$\n",
    " \n",
    "### Converge in probability\n",
    "Suppose $X_n, n > 1$ and $X$ are random variables. Then $\\{X_n\\}$ converges **in probability** (i.p.) to $X$, written $X_n\\buildrel P\\over \\to X$, if for any $\\epsilon > 0$\n",
    "$$\\lim_{n\\to \\infty} p(|X_n-X|>\\epsilon)=0.$$\n",
    "### Converge in distribution\n",
    "Let $\\{X_n\\}$ be a sequence of random variables and let $X$ be a random variable. Let $F_{X_n}$ and $F_X$ be, respectively, the cdfs of $X_n$ and $X$. Let $C(F_X)$ denote the set of all points where $F_X$ is continuous.\n",
    "We say that $X_n$ converges **in distribution** to $X$ if\n",
    "$$\\lim_{n\\rightarrow\\infty}F_{X_n}(x)=F_X(x),\\text{ for all }x\\in C(F_X).$$ We denote this convergence by if so, we write\n",
    "$$X_n \\buildrel D\\over\\rightarrow X.$$\n",
    "### Discussion\n",
    "- Almost sure convergence demands that for almost all $\\omega$, $X_n(\\omega)-X(\\omega)$ gets small and stays small. Convergence in probability is weaker and merely requires that the probability of the difference $X_n(\\omega) - X(\\omega)$ being non-trivial becomes small.\n",
    "- It is possible for a sequence to converge in probability but not almost surely.\n",
    "- $X_n \\buildrel \\text{a.s.} \\over \\to X \\Rightarrow X_n \\buildrel P \\over \\to X \\Rightarrow X_n \\buildrel D \\over \\to X$. The reverse doesn't hold."
   ]
  },
  {
   "cell_type": "markdown",
   "metadata": {},
   "source": [
    "## Laws of large numbers\n",
    "- **Weak law of large numbers** (a special case)  \n",
    "$\\{X_n\\}$ iid, mean $\\mu<\\infty$, variance $\\sigma^2<\\infty$, let\n",
    "$\\overline{X}_n=n^{-1}\\sum_{i=1}^n X_i$\n",
    "Then\n",
    "$$\\overline{X}_n \\buildrel p\\over\\rightarrow \\mu.$$\n",
    "\n",
    "- **Strong law of large numbers** (Kolmogorov's)  \n",
    "$\\{X_n\\}$ iid, $\\mathbb{E}[|X_i|]<\\infty$, then\n",
    "$$\\overline{X}_n \\buildrel a.s.\\over\\rightarrow \\mu = \\mathbb{E}(X_i).$$\n",
    "  - If $\\mathbb{E}[X_i^2] < \\infty$, then $S_n = \\frac{1}{n}\\sum_{i=1}^n(X_i-\\overline{X})^2 \\buildrel a.s. \\over \\rightarrow \\sigma^2 = \\text{Var}(X_i)$."
   ]
  },
  {
   "cell_type": "code",
   "execution_count": null,
   "metadata": {
    "collapsed": true
   },
   "outputs": [],
   "source": []
  }
 ],
 "metadata": {
  "kernelspec": {
   "display_name": "Python 3",
   "language": "python",
   "name": "python3"
  },
  "language_info": {
   "codemirror_mode": {
    "name": "ipython",
    "version": 3
   },
   "file_extension": ".py",
   "mimetype": "text/x-python",
   "name": "python",
   "nbconvert_exporter": "python",
   "pygments_lexer": "ipython3",
   "version": "3.6.4"
  }
 },
 "nbformat": 4,
 "nbformat_minor": 2
}
